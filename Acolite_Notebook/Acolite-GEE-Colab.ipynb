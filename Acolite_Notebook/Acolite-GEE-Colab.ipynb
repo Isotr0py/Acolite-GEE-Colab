{
  "cells": [
    {
      "cell_type": "markdown",
      "metadata": {
        "colab_type": "text",
        "id": "view-in-github"
      },
      "source": [
        "<a href=\"https://colab.research.google.com/github/Isotr0py/Acolite-GEE-Colab/blob/main/Acolite_Notebook/Acolite-GEE-Colab.ipynb\" target=\"_parent\"><img src=\"https://colab.research.google.com/assets/colab-badge.svg\" alt=\"Open In Colab\"/></a>"
      ]
    },
    {
      "cell_type": "code",
      "execution_count": null,
      "metadata": {
        "cellView": "form",
        "colab": {
          "base_uri": "https://localhost:8080/"
        },
        "id": "zlbTaMaCYIQY",
        "outputId": "ceade341-72eb-4e69-cc40-7b6436c63b26"
      },
      "outputs": [
        {
          "name": "stdout",
          "output_type": "stream",
          "text": [
            "Mounted at /content/gdrive\n",
            "Collecting netcdf4\n",
            "  Downloading netCDF4-1.6.5-cp310-cp310-manylinux_2_17_x86_64.manylinux2014_x86_64.whl (5.5 MB)\n",
            "\u001b[2K     \u001b[90m━━━━━━━━━━━━━━━━━━━━━━━━━━━━━━━━━━━━━━━━\u001b[0m \u001b[32m5.5/5.5 MB\u001b[0m \u001b[31m15.7 MB/s\u001b[0m eta \u001b[36m0:00:00\u001b[0m\n",
            "\u001b[?25hCollecting cftime (from netcdf4)\n",
            "  Downloading cftime-1.6.3-cp310-cp310-manylinux_2_17_x86_64.manylinux2014_x86_64.whl (1.3 MB)\n",
            "\u001b[2K     \u001b[90m━━━━━━━━━━━━━━━━━━━━━━━━━━━━━━━━━━━━━━━━\u001b[0m \u001b[32m1.3/1.3 MB\u001b[0m \u001b[31m40.7 MB/s\u001b[0m eta \u001b[36m0:00:00\u001b[0m\n",
            "\u001b[?25hRequirement already satisfied: certifi in /usr/local/lib/python3.10/dist-packages (from netcdf4) (2024.2.2)\n",
            "Requirement already satisfied: numpy in /usr/local/lib/python3.10/dist-packages (from netcdf4) (1.25.2)\n",
            "Installing collected packages: cftime, netcdf4\n",
            "Successfully installed cftime-1.6.3 netcdf4-1.6.5\n"
          ]
        }
      ],
      "source": [
        "#@title Initialize Runtime\n",
        "#@markdown Mount Google Drive\n",
        "Mount_Drive=True #@param {type:\"boolean\"}\n",
        "if Mount_Drive:\n",
        "  from google.colab import drive\n",
        "  drive.mount('/content/gdrive')\n",
        "# acolite requirements\n",
        "!pip install netcdf4"
      ]
    },
    {
      "cell_type": "code",
      "execution_count": null,
      "metadata": {
        "cellView": "form",
        "id": "5Vy0E1kzTmdz"
      },
      "outputs": [],
      "source": [
        "# @title Authenticate and Initialize GEE\n",
        "import ee\n",
        "import geemap\n",
        "\n",
        "#@markdown Your GEE project to initialize\n",
        "project = \"ee-acolite\" # @param {type:\"string\"}\n",
        "ee.Authenticate()\n",
        "ee.Initialize(project=project)\n",
        "# ee.Initialize(opt_url='https://earthengine-highvolume.googleapis.com',project='ee-entr0py')\n",
        "Map=geemap.Map()"
      ]
    },
    {
      "cell_type": "code",
      "execution_count": null,
      "metadata": {
        "cellView": "form",
        "colab": {
          "base_uri": "https://localhost:8080/",
          "height": 468
        },
        "id": "FyjKqUaPTxQY",
        "outputId": "6c1259cf-b8ee-4f29-b38f-ee5592741866"
      },
      "outputs": [
        {
          "data": {
            "text/html": [
              "\n",
              "            <style>\n",
              "                .geemap-dark {\n",
              "                    --jp-widgets-color: white;\n",
              "                    --jp-widgets-label-color: white;\n",
              "                    --jp-ui-font-color1: white;\n",
              "                    --jp-layout-color2: #454545;\n",
              "                    background-color: #383838;\n",
              "                }\n",
              "\n",
              "                .geemap-dark .jupyter-button {\n",
              "                    --jp-layout-color3: #383838;\n",
              "                }\n",
              "\n",
              "                .geemap-colab {\n",
              "                    background-color: var(--colab-primary-surface-color, white);\n",
              "                }\n",
              "\n",
              "                .geemap-colab .jupyter-button {\n",
              "                    --jp-layout-color3: var(--colab-primary-surface-color, white);\n",
              "                }\n",
              "            </style>\n",
              "            "
            ],
            "text/plain": [
              "<IPython.core.display.HTML object>"
            ]
          },
          "metadata": {},
          "output_type": "display_data"
        },
        {
          "name": "stdout",
          "output_type": "stream",
          "text": [
            "/content\n",
            "Cloning into 'acolite'...\n",
            "remote: Enumerating objects: 849, done.\u001b[K\n",
            "remote: Counting objects: 100% (849/849), done.\u001b[K\n",
            "remote: Compressing objects: 100% (762/762), done.\u001b[K\n",
            "remote: Total 849 (delta 101), reused 626 (delta 66), pack-reused 0\u001b[K\n",
            "Receiving objects: 100% (849/849), 3.82 MiB | 19.35 MiB/s, done.\n",
            "Resolving deltas: 100% (101/101), done.\n",
            "Note: switching to '81dd9d34224c535166de3c1fab9c2a057ef8b615'.\n",
            "\n",
            "You are in 'detached HEAD' state. You can look around, make experimental\n",
            "changes and commit them, and you can discard any commits you make in this\n",
            "state without impacting any branches by switching back to a branch.\n",
            "\n",
            "If you want to create a new branch to retain commits you create, you may\n",
            "do so (now or later) by using -c with the switch command. Example:\n",
            "\n",
            "  git switch -c <new-branch-name>\n",
            "\n",
            "Or undo this operation with:\n",
            "\n",
            "  git switch -\n",
            "\n",
            "Turn off this advice by setting config variable advice.detachedHead to false\n",
            "\n",
            "/content/acolite\n"
          ]
        }
      ],
      "source": [
        "# @title Clone acolite repository\n",
        "# @markdown Download [Acolite](https://github.com/acolite/acolite) from Github\n",
        "# Acolite can't be installed as library. It's hard coded.\n",
        "%cd /content/\n",
        "Release = \"20231023.0\" #@param [\"20231023.0\"]\n",
        "# @markdown **<font color=red>Warning: use_latest_repo will download `main` branch instead of Release version (unstable)!!**\n",
        "use_latest_repo = False #@param{type:\"boolean\"}\n",
        "if use_latest_repo:\n",
        "  !git clone --depth 1 https://github.com/acolite/acolite\n",
        "else:\n",
        "  !git clone --depth 1 https://github.com/acolite/acolite --branch $Release\n",
        "%cd acolite\n",
        "# !git clone https://github.com/acolite/acolite_luts data/LUT"
      ]
    },
    {
      "cell_type": "code",
      "execution_count": null,
      "metadata": {
        "cellView": "form",
        "id": "VGsugo_WKVuV"
      },
      "outputs": [],
      "source": [
        "import ee\n",
        "import geemap\n",
        "\n",
        "#@title Setting ROI and Run acolite\n",
        "# @markdown **<font color=cyan>:)  Readme**\n",
        "\n",
        "# @markdown - **<font color=cyan>Setting the parameters**\n",
        "\n",
        "# @markdown - **<font color=cyan>First Run will display a GEE map**\n",
        "\n",
        "# @markdown - **<font color=cyan>Draw your ROI on map**\n",
        "\n",
        "# @markdown - **<font color=cyan>Re-run the cell to start the process!**\n",
        "\n",
        "\n",
        "\n",
        "# @markdown Basic settings\n",
        "isodate_start='2021-12-05' #@param {type:'date'}\n",
        "isodate_end='2021-12-06' #@param {type:'date'}\n",
        "sensors = \"S2_MSI\" # @param [\"S2_MSI\", \"L9_OLI\", \"L8_OLI\", \"L7_ETM\", \"L5_TM\"]\n",
        "output_dir = \"/content/example\" # @param {type:\"string\"}\n",
        "\n",
        "run_hybrid_dsf = False #@param {type:\"boolean\"}\n",
        "run_offline_dsf = True #@param {type:\"boolean\"}\n",
        "\n",
        "\n",
        "settings = {}\n",
        "gee_settings = {}\n",
        "\n",
        "gee_settings[\"output\"] = output_dir\n",
        "if sensors == \"S2_MSI\":\n",
        "  gee_settings[\"sensors\"] = \"S2A_MSI, S2B_MSI\"\n",
        "else:\n",
        "  gee_settings[\"sensors\"] = sensors\n",
        "gee_settings[\"isodate_start\"] = isodate_start\n",
        "gee_settings[\"isodate_end\"] = isodate_end\n",
        "gee_settings[\"strict_subset\"] = True\n",
        "gee_settings[\"run_hybrid_dsf\"] = run_hybrid_dsf\n",
        "gee_settings[\"run_offline_dsf\"] = run_offline_dsf\n",
        "\n",
        "settings[\"merge_tiles\"] = True\n",
        "settings[\"merge_zones\"] = True\n",
        "settings[\"map_l2w\"] = True\n",
        "\n",
        "#@markdown L2W parameters\n",
        "settings[\"l2w_parameters\"]= []\n",
        "Rrs = False #@param {type:\"boolean\"}\n",
        "if Rrs:\n",
        "  settings[\"l2w_parameters\"].append('Rrs_*')\n",
        "\n",
        "rhorc = False #@param {type:\"boolean\"}\n",
        "if rhorc:\n",
        "  settings[\"l2w_parameters\"].append('rhorc_*')\n",
        "\n",
        "custom_l2w_parameters = \"spm_nechad2016\"  #@param {type:\"string\"}\n",
        "if custom_l2w_parameters:\n",
        "  settings[\"l2w_parameters\"] += custom_l2w_parameters.split(\",\")\n",
        "\n",
        "# GEEMAP\n",
        "image_collection = {\n",
        "    \"S2_MSI\": \"COPERNICUS/S2_HARMONIZED\",\n",
        "    \"L9_OLI\": \"LANDSAT/LC09/C02/T1_TOA\",\n",
        "    \"L8_OLI\": \"LANDSAT/LC08/C02/T1_TOA\",\n",
        "    \"L7_ETM\": \"LANDSAT/LE07/C02/T1_TOA\",\n",
        "}\n",
        "image = ee.ImageCollection(image_collection[sensors]).filterDate(isodate_start,isodate_end);\n",
        "\n",
        "#Visuaization\n",
        "\n",
        "visualization = {\n",
        "    \"sentinel\": {\n",
        "      'bands': ['B4','B3','B2'],\n",
        "      'min': 0,\n",
        "      'max': 2500,\n",
        "    },\n",
        "    \"landsat\": {\n",
        "      'bands': ['B4','B3','B2'],\n",
        "      'min': 0,\n",
        "      'max': 0.2,\n",
        "    },\n",
        "}\n",
        "if sensors == \"S2_MSI\":\n",
        "  vis = visualization[\"sentinel\"]\n",
        "else:\n",
        "  vis = visualization[\"landsat\"]\n",
        "\n",
        "Map.addLayer(image, vis, name=sensors);\n",
        "display(Map)\n",
        "if Map.draw_features:\n",
        "  feature = ee.FeatureCollection(Map.draw_features)\n",
        "  coordinates = feature.geometry().bounds().coordinates().getInfo()[0]\n",
        "  lon = [x[0] for x in coordinates]\n",
        "  lat = [x[1] for x in coordinates]\n",
        "  S,W,N,E = min(lat),min(lon),max(lat),max(lon)\n",
        "  gee_settings[\"limit\"] = [S,W,N,E]\n",
        "\n",
        "  import acolite.gee\n",
        "  acolite.gee.agh_run(settings=gee_settings, acolite_settings=settings)\n"
      ]
    },
    {
      "cell_type": "code",
      "execution_count": null,
      "metadata": {
        "colab": {
          "base_uri": "https://localhost:8080/",
          "height": 17
        },
        "id": "zB6BOHIIhe_S",
        "outputId": "27f0e69f-852a-4299-8442-8b6c529f33af"
      },
      "outputs": [
        {
          "data": {
            "text/html": [
              "\n",
              "            <style>\n",
              "                .geemap-dark {\n",
              "                    --jp-widgets-color: white;\n",
              "                    --jp-widgets-label-color: white;\n",
              "                    --jp-ui-font-color1: white;\n",
              "                    --jp-layout-color2: #454545;\n",
              "                    background-color: #383838;\n",
              "                }\n",
              "                    \n",
              "                .geemap-dark .jupyter-button {\n",
              "                    --jp-layout-color3: #383838;\n",
              "                }\n",
              "                \n",
              "                .geemap-colab {\n",
              "                    background-color: var(--colab-primary-surface-color, white);\n",
              "                }\n",
              "                    \n",
              "                .geemap-colab .jupyter-button {\n",
              "                    --jp-layout-color3: var(--colab-primary-surface-color, white);\n",
              "                }\n",
              "            </style>\n",
              "            "
            ],
            "text/plain": [
              "<IPython.core.display.HTML object>"
            ]
          },
          "metadata": {},
          "output_type": "display_data"
        }
      ],
      "source": [
        "!rm -rf /content/example"
      ]
    }
  ],
  "metadata": {
    "colab": {
      "include_colab_link": true,
      "provenance": []
    },
    "kernelspec": {
      "display_name": "Python 3",
      "name": "python3"
    },
    "language_info": {
      "name": "python"
    }
  },
  "nbformat": 4,
  "nbformat_minor": 0
}
