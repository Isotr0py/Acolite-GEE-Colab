{
  "cells": [
    {
      "cell_type": "markdown",
      "metadata": {
        "colab_type": "text",
        "id": "view-in-github"
      },
      "source": [
        "<a href=\"https://colab.research.google.com/github/Isotr0py/Acolite-GEE-Colab/blob/main/Acolite-GEE-Demo.ipynb\" target=\"_parent\"><img src=\"https://colab.research.google.com/assets/colab-badge.svg\" alt=\"Open In Colab\"/></a>"
      ]
    },
    {
      "cell_type": "code",
      "execution_count": null,
      "metadata": {
        "cellView": "form",
        "colab": {
          "base_uri": "https://localhost:8080/"
        },
        "id": "zlbTaMaCYIQY",
        "outputId": "f428efd1-5d42-48f0-806f-a6e09d9be409"
      },
      "outputs": [],
      "source": [
        "#@title Initialize Runtime\n",
        "#@markdown Mount Google Drive\n",
        "Mount_Drive=True #@param {type:\"boolean\"}\n",
        "if Mount_Drive:\n",
        "  from google.colab import drive\n",
        "  drive.mount('/content/gdrive')\n",
        "# acolite requirements\n",
        "!pip install netcdf4"
      ]
    },
    {
      "cell_type": "code",
      "execution_count": null,
      "metadata": {
        "cellView": "form",
        "id": "5Vy0E1kzTmdz"
      },
      "outputs": [],
      "source": [
        "# @title Authenticate and Initialize GEE\n",
        "import ee\n",
        "import geemap\n",
        "\n",
        "#@markdown Your GEE project to initialize\n",
        "project = \"ee-acolite\" # @param {type:\"string\"}\n",
        "ee.Authenticate()\n",
        "ee.Initialize(project=project)\n",
        "# ee.Initialize(opt_url='https://earthengine-highvolume.googleapis.com',project='ee-entr0py')\n",
        "Map=geemap.Map()"
      ]
    },
    {
      "cell_type": "code",
      "execution_count": null,
      "metadata": {
        "cellView": "form",
        "colab": {
          "base_uri": "https://localhost:8080/",
          "height": 71
        },
        "id": "FyjKqUaPTxQY",
        "outputId": "70b87f43-d875-457c-ec44-ff2170d80000"
      },
      "outputs": [],
      "source": [
        "# @title Clone acolite repository\n",
        "# @markdown Download [Acolite](https://github.com/acolite/acolite) from Github\n",
        "# Acolite can't be installed as library. It's hard coded.\n",
        "%cd /content/\n",
        "Release = \"20231023.0\" #@param [\"20231023.0\"]\n",
        "# @markdown **<font color=red>Warning: use_latest_repo will download `main` branch instead of Release version (unstable)!!**\n",
        "use_latest_repo = False #@param{type:\"boolean\"}\n",
        "if use_latest_repo:\n",
        "  !git clone --depth 1 https://github.com/acolite/acolite\n",
        "else:\n",
        "  !git clone --depth 1 https://github.com/acolite/acolite --branch $Release\n",
        "%cd acolite\n",
        "# !git clone https://github.com/acolite/acolite_luts data/LUT"
      ]
    },
    {
      "cell_type": "code",
      "execution_count": null,
      "metadata": {
        "id": "VGsugo_WKVuV"
      },
      "outputs": [],
      "source": [
        "import ee\n",
        "import geemap\n",
        "\n",
        "#@title Setting ROI and Run acolite\n",
        "# @markdown **<font color=cyan>:)  Readme**\n",
        "\n",
        "# @markdown - **<font color=cyan>Setting the parameters**\n",
        "\n",
        "# @markdown - **<font color=cyan>First Run will display a GEE map**\n",
        "\n",
        "# @markdown - **<font color=cyan>Draw your ROI on map**\n",
        "\n",
        "# @markdown - **<font color=cyan>Re-run the cell to start the process!**\n",
        "\n",
        "\n",
        "\n",
        "# @markdown Basic settings\n",
        "isodate_start='2016-01-05' #@param {type:'date'}\n",
        "isodate_end='2016-01-07' #@param {type:'date'}\n",
        "sensors=\"L8_OLI\"  #@param [\"L8_OLI\"]\n",
        "output_dir = \"/content/example\" # @param {type:\"string\"}\n",
        "\n",
        "settings = {}\n",
        "gee_settings = {}\n",
        "\n",
        "gee_settings[\"output\"] = output_dir\n",
        "gee_settings[\"sensors\"] = sensors\n",
        "gee_settings[\"isodate_start\"] = isodate_start\n",
        "gee_settings[\"isodate_end\"] = isodate_end\n",
        "gee_settings[\"strict_subset\"] = True\n",
        "gee_settings[\"run_hybrid_dsf\"] = False\n",
        "gee_settings[\"run_offline_dsf\"] = True\n",
        "\n",
        "#@markdown L2W parameters\n",
        "settings[\"l2w_parameters\"]= []\n",
        "Rrs = True #@param {type:\"boolean\"}\n",
        "if Rrs:\n",
        "  settings[\"l2w_parameters\"].append('Rrs_*')\n",
        "\n",
        "rhorc = True #@param {type:\"boolean\"}\n",
        "if rhorc:\n",
        "  settings[\"l2w_parameters\"].append('rhorc_*')\n",
        "\n",
        "custom_l2w_parameters = \"\"  #@param {type:\"string\"}\n",
        "if custom_l2w_parameters:\n",
        "  settings[\"l2w_parameters\"] += custom_l2w_parameters.split(\",\")\n",
        "\n",
        "# GEEMAP\n",
        "image = ee.ImageCollection('LANDSAT/LC08/C02/T1_TOA').filterDate(isodate_start,isodate_end);\n",
        "\n",
        "#Visuaization\n",
        "\n",
        "visualization = {\n",
        "  'bands': ['B4','B3','B2'],\n",
        "  'min': 0,\n",
        "  'max': 0.5,\n",
        "  'gamma':1.6,\n",
        "}\n",
        "\n",
        "Map.addLayer(image, visualization);\n",
        "display(Map)\n",
        "if Map.draw_features:\n",
        "  feature = ee.FeatureCollection(Map.draw_features)\n",
        "  coordinates = feature.geometry().bounds().coordinates().getInfo()[0]\n",
        "  lon = [x[0] for x in coordinates]\n",
        "  lat = [x[1] for x in coordinates]\n",
        "  S,W,N,E = min(lat),min(lon),max(lat),max(lon)\n",
        "  gee_settings[\"limit\"] = [S,W,N,E]\n",
        "\n",
        "  import acolite.gee\n",
        "  acolite.gee.agh_run(settings=gee_settings, acolite_settings=settings)\n",
        "\n",
        "  # @markdown **<font color=green>Use proposed SVR Zsd model**\n",
        "  Zsd_SVR_plugin = True #@param{type:\"boolean\"}\n",
        "  if Zsd_SVR_plugin:\n",
        "    from glob import glob\n",
        "    from pathlib import Path\n",
        "\n",
        "    import joblib\n",
        "    import numpy as np\n",
        "    import xarray as xr\n",
        "    import matplotlib.pyplot as plt\n",
        "\n",
        "\n",
        "    l2w_files = glob(output_dir+\"/*L2W_GEE_crop.nc\")\n",
        "    if not Path(\"zsd_model.pkl\").exists():\n",
        "      !wget https://zenodo.org/records/10665381/files/zsd_model.pkl\n",
        "    model = joblib.load(\"zsd_model.pkl\")\n",
        "    for file in l2w_files:\n",
        "      file = Path(file)\n",
        "      parent= file.parent\n",
        "      name = file.stem\n",
        "      print(f\"Processing ZSD: {file.name}\")\n",
        "\n",
        "      fig = plt.figure()\n",
        "      ax = fig.add_subplot(111)\n",
        "      plt.axis('off')\n",
        "\n",
        "      with xr.open_mfdataset(file, parallel=True) as ds:\n",
        "        x = (ds.rhorc_483-ds.rhorc_1609)/(ds.rhorc_561-ds.rhorc_1609)\n",
        "        shape = x.shape\n",
        "        x = x.where(~np.isnan(x), 0)\n",
        "        zsd = model.predict(x.values.reshape(-1,1))\n",
        "        ds_zsd = xr.Dataset(coords=ds.coords)\n",
        "        ds_zsd[\"zsd\"] = ((\"y\",\"x\"), zsd.reshape(shape))\n",
        "        ds_zsd[\"zsd\"] = ds_zsd.zsd.where(ds.l2_flags==0)\n",
        "        ds_zsd[\"zsd\"].attrs = {'long_name': 'Secchi Disk Depth',\n",
        "                'mate': 'Zsd', 'units':\"m\"}\n",
        "        ds_zsd[\"zsd\"].plot.imshow(cmap=\"Spectral\", ax=ax, vmin=int(ds_zsd[\"zsd\"].min()), vmax=int(ds_zsd[\"zsd\"].max()))\n",
        "        ax.set_title(f\"{ds.sensor}\\n{ds.isodate}\")\n",
        "        fig.savefig(parent.joinpath(f\"{name}_zsd.png\"), bbox_inches=\"tight\")\n",
        "        plt.close(fig)\n",
        "\n",
        "      ds_zsd.to_netcdf(file,mode=\"a\")\n",
        "\n"
      ]
    }
  ],
  "metadata": {
    "colab": {
      "authorship_tag": "ABX9TyMqx2ngw4Qool2omKjAnKyh",
      "include_colab_link": true,
      "provenance": []
    },
    "kernelspec": {
      "display_name": "Python 3",
      "name": "python3"
    },
    "language_info": {
      "name": "python"
    }
  },
  "nbformat": 4,
  "nbformat_minor": 0
}
